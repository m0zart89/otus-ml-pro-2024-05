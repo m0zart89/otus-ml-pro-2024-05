{
 "nbformat": 4,
 "nbformat_minor": 0,
 "metadata": {
  "colab": {
   "provenance": []
  },
  "kernelspec": {
   "name": "python3",
   "display_name": "Python 3 (ipykernel)",
   "language": "python"
  },
  "language_info": {
   "name": "python"
  },
  "widgets": {
   "application/vnd.jupyter.widget-state+json": {
    "6d7fd6ca157242a5a4b49d7a04cebe22": {
     "model_module": "@jupyter-widgets/controls",
     "model_name": "HBoxModel",
     "model_module_version": "1.5.0",
     "state": {
      "_dom_classes": [],
      "_model_module": "@jupyter-widgets/controls",
      "_model_module_version": "1.5.0",
      "_model_name": "HBoxModel",
      "_view_count": null,
      "_view_module": "@jupyter-widgets/controls",
      "_view_module_version": "1.5.0",
      "_view_name": "HBoxView",
      "box_style": "",
      "children": [
       "IPY_MODEL_4b35def10f7c4a1a8a61a11d696985ce",
       "IPY_MODEL_2d2ca3c4ec2d4da6900de90033f82206",
       "IPY_MODEL_a2cc42afdb7c4bf09f22e9ebcccc37cd"
      ],
      "layout": "IPY_MODEL_0092f59d70ce4f84b5dc790884e3b743"
     }
    },
    "4b35def10f7c4a1a8a61a11d696985ce": {
     "model_module": "@jupyter-widgets/controls",
     "model_name": "HTMLModel",
     "model_module_version": "1.5.0",
     "state": {
      "_dom_classes": [],
      "_model_module": "@jupyter-widgets/controls",
      "_model_module_version": "1.5.0",
      "_model_name": "HTMLModel",
      "_view_count": null,
      "_view_module": "@jupyter-widgets/controls",
      "_view_module_version": "1.5.0",
      "_view_name": "HTMLView",
      "description": "",
      "description_tooltip": null,
      "layout": "IPY_MODEL_001ec49731ba473389192b0ab85872b0",
      "placeholder": "​",
      "style": "IPY_MODEL_6fe7993f13434fb8a942f2aaf914335c",
      "value": "100%"
     }
    },
    "2d2ca3c4ec2d4da6900de90033f82206": {
     "model_module": "@jupyter-widgets/controls",
     "model_name": "FloatProgressModel",
     "model_module_version": "1.5.0",
     "state": {
      "_dom_classes": [],
      "_model_module": "@jupyter-widgets/controls",
      "_model_module_version": "1.5.0",
      "_model_name": "FloatProgressModel",
      "_view_count": null,
      "_view_module": "@jupyter-widgets/controls",
      "_view_module_version": "1.5.0",
      "_view_name": "ProgressView",
      "bar_style": "success",
      "description": "",
      "description_tooltip": null,
      "layout": "IPY_MODEL_7da716ce258b490d83bd5dd041d5a053",
      "max": 991,
      "min": 0,
      "orientation": "horizontal",
      "style": "IPY_MODEL_82073cc1138a4f86ad76a869544bcdf6",
      "value": 991
     }
    },
    "a2cc42afdb7c4bf09f22e9ebcccc37cd": {
     "model_module": "@jupyter-widgets/controls",
     "model_name": "HTMLModel",
     "model_module_version": "1.5.0",
     "state": {
      "_dom_classes": [],
      "_model_module": "@jupyter-widgets/controls",
      "_model_module_version": "1.5.0",
      "_model_name": "HTMLModel",
      "_view_count": null,
      "_view_module": "@jupyter-widgets/controls",
      "_view_module_version": "1.5.0",
      "_view_name": "HTMLView",
      "description": "",
      "description_tooltip": null,
      "layout": "IPY_MODEL_3f3537aaf7e5439b8eb3416c12f44ac7",
      "placeholder": "​",
      "style": "IPY_MODEL_cbef7bcb6b1743eaaeb079e2f8b1934c",
      "value": " 991/991 [00:02&lt;00:00, 377.31it/s]"
     }
    },
    "0092f59d70ce4f84b5dc790884e3b743": {
     "model_module": "@jupyter-widgets/base",
     "model_name": "LayoutModel",
     "model_module_version": "1.2.0",
     "state": {
      "_model_module": "@jupyter-widgets/base",
      "_model_module_version": "1.2.0",
      "_model_name": "LayoutModel",
      "_view_count": null,
      "_view_module": "@jupyter-widgets/base",
      "_view_module_version": "1.2.0",
      "_view_name": "LayoutView",
      "align_content": null,
      "align_items": null,
      "align_self": null,
      "border": null,
      "bottom": null,
      "display": null,
      "flex": null,
      "flex_flow": null,
      "grid_area": null,
      "grid_auto_columns": null,
      "grid_auto_flow": null,
      "grid_auto_rows": null,
      "grid_column": null,
      "grid_gap": null,
      "grid_row": null,
      "grid_template_areas": null,
      "grid_template_columns": null,
      "grid_template_rows": null,
      "height": null,
      "justify_content": null,
      "justify_items": null,
      "left": null,
      "margin": null,
      "max_height": null,
      "max_width": null,
      "min_height": null,
      "min_width": null,
      "object_fit": null,
      "object_position": null,
      "order": null,
      "overflow": null,
      "overflow_x": null,
      "overflow_y": null,
      "padding": null,
      "right": null,
      "top": null,
      "visibility": null,
      "width": null
     }
    },
    "001ec49731ba473389192b0ab85872b0": {
     "model_module": "@jupyter-widgets/base",
     "model_name": "LayoutModel",
     "model_module_version": "1.2.0",
     "state": {
      "_model_module": "@jupyter-widgets/base",
      "_model_module_version": "1.2.0",
      "_model_name": "LayoutModel",
      "_view_count": null,
      "_view_module": "@jupyter-widgets/base",
      "_view_module_version": "1.2.0",
      "_view_name": "LayoutView",
      "align_content": null,
      "align_items": null,
      "align_self": null,
      "border": null,
      "bottom": null,
      "display": null,
      "flex": null,
      "flex_flow": null,
      "grid_area": null,
      "grid_auto_columns": null,
      "grid_auto_flow": null,
      "grid_auto_rows": null,
      "grid_column": null,
      "grid_gap": null,
      "grid_row": null,
      "grid_template_areas": null,
      "grid_template_columns": null,
      "grid_template_rows": null,
      "height": null,
      "justify_content": null,
      "justify_items": null,
      "left": null,
      "margin": null,
      "max_height": null,
      "max_width": null,
      "min_height": null,
      "min_width": null,
      "object_fit": null,
      "object_position": null,
      "order": null,
      "overflow": null,
      "overflow_x": null,
      "overflow_y": null,
      "padding": null,
      "right": null,
      "top": null,
      "visibility": null,
      "width": null
     }
    },
    "6fe7993f13434fb8a942f2aaf914335c": {
     "model_module": "@jupyter-widgets/controls",
     "model_name": "DescriptionStyleModel",
     "model_module_version": "1.5.0",
     "state": {
      "_model_module": "@jupyter-widgets/controls",
      "_model_module_version": "1.5.0",
      "_model_name": "DescriptionStyleModel",
      "_view_count": null,
      "_view_module": "@jupyter-widgets/base",
      "_view_module_version": "1.2.0",
      "_view_name": "StyleView",
      "description_width": ""
     }
    },
    "7da716ce258b490d83bd5dd041d5a053": {
     "model_module": "@jupyter-widgets/base",
     "model_name": "LayoutModel",
     "model_module_version": "1.2.0",
     "state": {
      "_model_module": "@jupyter-widgets/base",
      "_model_module_version": "1.2.0",
      "_model_name": "LayoutModel",
      "_view_count": null,
      "_view_module": "@jupyter-widgets/base",
      "_view_module_version": "1.2.0",
      "_view_name": "LayoutView",
      "align_content": null,
      "align_items": null,
      "align_self": null,
      "border": null,
      "bottom": null,
      "display": null,
      "flex": null,
      "flex_flow": null,
      "grid_area": null,
      "grid_auto_columns": null,
      "grid_auto_flow": null,
      "grid_auto_rows": null,
      "grid_column": null,
      "grid_gap": null,
      "grid_row": null,
      "grid_template_areas": null,
      "grid_template_columns": null,
      "grid_template_rows": null,
      "height": null,
      "justify_content": null,
      "justify_items": null,
      "left": null,
      "margin": null,
      "max_height": null,
      "max_width": null,
      "min_height": null,
      "min_width": null,
      "object_fit": null,
      "object_position": null,
      "order": null,
      "overflow": null,
      "overflow_x": null,
      "overflow_y": null,
      "padding": null,
      "right": null,
      "top": null,
      "visibility": null,
      "width": null
     }
    },
    "82073cc1138a4f86ad76a869544bcdf6": {
     "model_module": "@jupyter-widgets/controls",
     "model_name": "ProgressStyleModel",
     "model_module_version": "1.5.0",
     "state": {
      "_model_module": "@jupyter-widgets/controls",
      "_model_module_version": "1.5.0",
      "_model_name": "ProgressStyleModel",
      "_view_count": null,
      "_view_module": "@jupyter-widgets/base",
      "_view_module_version": "1.2.0",
      "_view_name": "StyleView",
      "bar_color": null,
      "description_width": ""
     }
    },
    "3f3537aaf7e5439b8eb3416c12f44ac7": {
     "model_module": "@jupyter-widgets/base",
     "model_name": "LayoutModel",
     "model_module_version": "1.2.0",
     "state": {
      "_model_module": "@jupyter-widgets/base",
      "_model_module_version": "1.2.0",
      "_model_name": "LayoutModel",
      "_view_count": null,
      "_view_module": "@jupyter-widgets/base",
      "_view_module_version": "1.2.0",
      "_view_name": "LayoutView",
      "align_content": null,
      "align_items": null,
      "align_self": null,
      "border": null,
      "bottom": null,
      "display": null,
      "flex": null,
      "flex_flow": null,
      "grid_area": null,
      "grid_auto_columns": null,
      "grid_auto_flow": null,
      "grid_auto_rows": null,
      "grid_column": null,
      "grid_gap": null,
      "grid_row": null,
      "grid_template_areas": null,
      "grid_template_columns": null,
      "grid_template_rows": null,
      "height": null,
      "justify_content": null,
      "justify_items": null,
      "left": null,
      "margin": null,
      "max_height": null,
      "max_width": null,
      "min_height": null,
      "min_width": null,
      "object_fit": null,
      "object_position": null,
      "order": null,
      "overflow": null,
      "overflow_x": null,
      "overflow_y": null,
      "padding": null,
      "right": null,
      "top": null,
      "visibility": null,
      "width": null
     }
    },
    "cbef7bcb6b1743eaaeb079e2f8b1934c": {
     "model_module": "@jupyter-widgets/controls",
     "model_name": "DescriptionStyleModel",
     "model_module_version": "1.5.0",
     "state": {
      "_model_module": "@jupyter-widgets/controls",
      "_model_module_version": "1.5.0",
      "_model_name": "DescriptionStyleModel",
      "_view_count": null,
      "_view_module": "@jupyter-widgets/base",
      "_view_module_version": "1.2.0",
      "_view_name": "StyleView",
      "description_width": ""
     }
    }
   }
  }
 },
 "cells": [
  {
   "cell_type": "markdown",
   "source": [
    "# Recommender system"
   ],
   "metadata": {
    "id": "Ewf1Rnj29Hwf"
   }
  },
  {
   "cell_type": "markdown",
   "source": [
    "\"Small\" subsets for experimentation https://nijianmo.github.io/amazon/index.html\n",
    "\n",
    "https://jmcauley.ucsd.edu/data/amazon_v2/categoryFilesSmall/All_Beauty_5.json.gz"
   ],
   "metadata": {
    "id": "gQFqsMQN8lXN"
   }
  },
  {
   "cell_type": "code",
   "metadata": {
    "id": "ScgRhmm5625u",
    "ExecuteTime": {
     "end_time": "2024-10-28T20:50:46.122205Z",
     "start_time": "2024-10-28T20:50:46.108606Z"
    }
   },
   "source": [
    "import numpy as np\n",
    "import pandas as pd\n",
    "import matplotlib.pyplot as plt\n",
    "import seaborn as sns\n",
    "import tqdm\n",
    "from sklearn.metrics import mean_squared_error\n",
    "from sklearn.metrics.pairwise import cosine_similarity\n",
    "from sklearn.base import BaseEstimator\n",
    "from sklearn.feature_extraction.text import TfidfVectorizer\n",
    "from typing import List, Dict\n",
    "\n",
    "import warnings\n",
    "warnings.simplefilter('ignore')"
   ],
   "outputs": [],
   "execution_count": 37
  },
  {
   "cell_type": "markdown",
   "source": [
    "**reviewerID** - ID of the reviewer, e.g. A2SUAM1J3GNN3B\n",
    "\n",
    "**asin** - ID of the product, e.g. 0000013714\n",
    "\n",
    "**reviewerName** - name of the reviewer\n",
    "\n",
    "**vote** - helpful votes of the review\n",
    "\n",
    "**style** - a disctionary of the product metadata, e.g., \"Format\" is \"Hardcover\"\n",
    "\n",
    "**reviewText** - text of the review\n",
    "\n",
    "**overall** - rating of the product\n",
    "\n",
    "**summary** - summary of the review\n",
    "\n",
    "**unixReviewTime** - time of the review (unix time)\n",
    "\n",
    "**reviewTime** - time of the review (raw)\n",
    "\n",
    "**image** - images that users post after they have received the product"
   ],
   "metadata": {
    "id": "fOWPsYviCzq-"
   }
  },
  {
   "cell_type": "code",
   "source": [
    "data = pd.read_json('All_Beauty_5.json', orient='records', lines=True)\n",
    "data.head(3)"
   ],
   "metadata": {
    "colab": {
     "base_uri": "https://localhost:8080/",
     "height": 237
    },
    "id": "2HdXmoFK-cAM",
    "outputId": "8a35e933-c4a0-457a-a26f-f84cd97a9a32",
    "ExecuteTime": {
     "end_time": "2024-10-28T20:50:46.397736Z",
     "start_time": "2024-10-28T20:50:46.254311Z"
    }
   },
   "outputs": [
    {
     "data": {
      "text/plain": [
       "   overall  verified   reviewTime      reviewerID        asin  \\\n",
       "0        5      True   09 1, 2016  A3CIUOJXQ5VDQ2  B0000530HU   \n",
       "1        5      True  11 14, 2013  A3H7T87S984REU  B0000530HU   \n",
       "2        1      True  08 18, 2013  A3J034YH7UG4KT  B0000530HU   \n",
       "\n",
       "                                               style  reviewerName  \\\n",
       "0  {'Size:': ' 7.0 oz', 'Flavor:': ' Classic Ice ...      Shelly F   \n",
       "1  {'Size:': ' 7.0 oz', 'Flavor:': ' Classic Ice ...  houserules18   \n",
       "2  {'Size:': ' 7.0 oz', 'Flavor:': ' Classic Ice ...          Adam   \n",
       "\n",
       "                                          reviewText            summary  \\\n",
       "0                   As advertised. Reasonably priced         Five Stars   \n",
       "1  Like the oder and the feel when I put it on my...  Good for the face   \n",
       "2  I bought this to smell nice after I shave.  Wh...       Smells awful   \n",
       "\n",
       "   unixReviewTime vote image  \n",
       "0      1472688000  NaN   NaN  \n",
       "1      1384387200  NaN   NaN  \n",
       "2      1376784000  NaN   NaN  "
      ],
      "text/html": [
       "<div>\n",
       "<style scoped>\n",
       "    .dataframe tbody tr th:only-of-type {\n",
       "        vertical-align: middle;\n",
       "    }\n",
       "\n",
       "    .dataframe tbody tr th {\n",
       "        vertical-align: top;\n",
       "    }\n",
       "\n",
       "    .dataframe thead th {\n",
       "        text-align: right;\n",
       "    }\n",
       "</style>\n",
       "<table border=\"1\" class=\"dataframe\">\n",
       "  <thead>\n",
       "    <tr style=\"text-align: right;\">\n",
       "      <th></th>\n",
       "      <th>overall</th>\n",
       "      <th>verified</th>\n",
       "      <th>reviewTime</th>\n",
       "      <th>reviewerID</th>\n",
       "      <th>asin</th>\n",
       "      <th>style</th>\n",
       "      <th>reviewerName</th>\n",
       "      <th>reviewText</th>\n",
       "      <th>summary</th>\n",
       "      <th>unixReviewTime</th>\n",
       "      <th>vote</th>\n",
       "      <th>image</th>\n",
       "    </tr>\n",
       "  </thead>\n",
       "  <tbody>\n",
       "    <tr>\n",
       "      <th>0</th>\n",
       "      <td>5</td>\n",
       "      <td>True</td>\n",
       "      <td>09 1, 2016</td>\n",
       "      <td>A3CIUOJXQ5VDQ2</td>\n",
       "      <td>B0000530HU</td>\n",
       "      <td>{'Size:': ' 7.0 oz', 'Flavor:': ' Classic Ice ...</td>\n",
       "      <td>Shelly F</td>\n",
       "      <td>As advertised. Reasonably priced</td>\n",
       "      <td>Five Stars</td>\n",
       "      <td>1472688000</td>\n",
       "      <td>NaN</td>\n",
       "      <td>NaN</td>\n",
       "    </tr>\n",
       "    <tr>\n",
       "      <th>1</th>\n",
       "      <td>5</td>\n",
       "      <td>True</td>\n",
       "      <td>11 14, 2013</td>\n",
       "      <td>A3H7T87S984REU</td>\n",
       "      <td>B0000530HU</td>\n",
       "      <td>{'Size:': ' 7.0 oz', 'Flavor:': ' Classic Ice ...</td>\n",
       "      <td>houserules18</td>\n",
       "      <td>Like the oder and the feel when I put it on my...</td>\n",
       "      <td>Good for the face</td>\n",
       "      <td>1384387200</td>\n",
       "      <td>NaN</td>\n",
       "      <td>NaN</td>\n",
       "    </tr>\n",
       "    <tr>\n",
       "      <th>2</th>\n",
       "      <td>1</td>\n",
       "      <td>True</td>\n",
       "      <td>08 18, 2013</td>\n",
       "      <td>A3J034YH7UG4KT</td>\n",
       "      <td>B0000530HU</td>\n",
       "      <td>{'Size:': ' 7.0 oz', 'Flavor:': ' Classic Ice ...</td>\n",
       "      <td>Adam</td>\n",
       "      <td>I bought this to smell nice after I shave.  Wh...</td>\n",
       "      <td>Smells awful</td>\n",
       "      <td>1376784000</td>\n",
       "      <td>NaN</td>\n",
       "      <td>NaN</td>\n",
       "    </tr>\n",
       "  </tbody>\n",
       "</table>\n",
       "</div>"
      ]
     },
     "execution_count": 38,
     "metadata": {},
     "output_type": "execute_result"
    }
   ],
   "execution_count": 38
  },
  {
   "cell_type": "markdown",
   "source": [
    "# EDA & Preprocessing"
   ],
   "metadata": {
    "id": "l-yuCRILH91h"
   }
  },
  {
   "cell_type": "code",
   "source": [
    "data.info()"
   ],
   "metadata": {
    "colab": {
     "base_uri": "https://localhost:8080/"
    },
    "id": "t5LgzyosBbP4",
    "outputId": "8aee0446-d840-471a-feac-ae117debb1f2",
    "ExecuteTime": {
     "end_time": "2024-10-28T20:50:46.560363Z",
     "start_time": "2024-10-28T20:50:46.513994Z"
    }
   },
   "outputs": [
    {
     "name": "stdout",
     "output_type": "stream",
     "text": [
      "<class 'pandas.core.frame.DataFrame'>\n",
      "RangeIndex: 5269 entries, 0 to 5268\n",
      "Data columns (total 12 columns):\n",
      " #   Column          Non-Null Count  Dtype \n",
      "---  ------          --------------  ----- \n",
      " 0   overall         5269 non-null   int64 \n",
      " 1   verified        5269 non-null   bool  \n",
      " 2   reviewTime      5269 non-null   object\n",
      " 3   reviewerID      5269 non-null   object\n",
      " 4   asin            5269 non-null   object\n",
      " 5   style           4624 non-null   object\n",
      " 6   reviewerName    5269 non-null   object\n",
      " 7   reviewText      5264 non-null   object\n",
      " 8   summary         5264 non-null   object\n",
      " 9   unixReviewTime  5269 non-null   int64 \n",
      " 10  vote            552 non-null    object\n",
      " 11  image           98 non-null     object\n",
      "dtypes: bool(1), int64(2), object(9)\n",
      "memory usage: 458.1+ KB\n"
     ]
    }
   ],
   "execution_count": 39
  },
  {
   "cell_type": "code",
   "source": [
    "data.describe()"
   ],
   "metadata": {
    "colab": {
     "base_uri": "https://localhost:8080/",
     "height": 297
    },
    "id": "uNL4lYY0Bxyp",
    "outputId": "bd8abd06-cd00-42a6-cfbd-fdd3e7a3348b",
    "ExecuteTime": {
     "end_time": "2024-10-28T20:50:47.022525Z",
     "start_time": "2024-10-28T20:50:46.980523Z"
    }
   },
   "outputs": [
    {
     "data": {
      "text/plain": [
       "           overall  unixReviewTime\n",
       "count  5269.000000    5.269000e+03\n",
       "mean      4.771873    1.441506e+09\n",
       "std       0.743204    5.473127e+07\n",
       "min       1.000000    1.095725e+09\n",
       "25%       5.000000    1.407024e+09\n",
       "50%       5.000000    1.445645e+09\n",
       "75%       5.000000    1.481674e+09\n",
       "max       5.000000    1.534982e+09"
      ],
      "text/html": [
       "<div>\n",
       "<style scoped>\n",
       "    .dataframe tbody tr th:only-of-type {\n",
       "        vertical-align: middle;\n",
       "    }\n",
       "\n",
       "    .dataframe tbody tr th {\n",
       "        vertical-align: top;\n",
       "    }\n",
       "\n",
       "    .dataframe thead th {\n",
       "        text-align: right;\n",
       "    }\n",
       "</style>\n",
       "<table border=\"1\" class=\"dataframe\">\n",
       "  <thead>\n",
       "    <tr style=\"text-align: right;\">\n",
       "      <th></th>\n",
       "      <th>overall</th>\n",
       "      <th>unixReviewTime</th>\n",
       "    </tr>\n",
       "  </thead>\n",
       "  <tbody>\n",
       "    <tr>\n",
       "      <th>count</th>\n",
       "      <td>5269.000000</td>\n",
       "      <td>5.269000e+03</td>\n",
       "    </tr>\n",
       "    <tr>\n",
       "      <th>mean</th>\n",
       "      <td>4.771873</td>\n",
       "      <td>1.441506e+09</td>\n",
       "    </tr>\n",
       "    <tr>\n",
       "      <th>std</th>\n",
       "      <td>0.743204</td>\n",
       "      <td>5.473127e+07</td>\n",
       "    </tr>\n",
       "    <tr>\n",
       "      <th>min</th>\n",
       "      <td>1.000000</td>\n",
       "      <td>1.095725e+09</td>\n",
       "    </tr>\n",
       "    <tr>\n",
       "      <th>25%</th>\n",
       "      <td>5.000000</td>\n",
       "      <td>1.407024e+09</td>\n",
       "    </tr>\n",
       "    <tr>\n",
       "      <th>50%</th>\n",
       "      <td>5.000000</td>\n",
       "      <td>1.445645e+09</td>\n",
       "    </tr>\n",
       "    <tr>\n",
       "      <th>75%</th>\n",
       "      <td>5.000000</td>\n",
       "      <td>1.481674e+09</td>\n",
       "    </tr>\n",
       "    <tr>\n",
       "      <th>max</th>\n",
       "      <td>5.000000</td>\n",
       "      <td>1.534982e+09</td>\n",
       "    </tr>\n",
       "  </tbody>\n",
       "</table>\n",
       "</div>"
      ]
     },
     "execution_count": 40,
     "metadata": {},
     "output_type": "execute_result"
    }
   ],
   "execution_count": 40
  },
  {
   "cell_type": "markdown",
   "source": [
    "Отберём количественные признаки"
   ],
   "metadata": {
    "id": "_r6C5cBLtviU"
   }
  },
  {
   "cell_type": "code",
   "source": [
    "num_columns = data.select_dtypes(include='int64').columns.tolist()\n",
    "num_columns"
   ],
   "metadata": {
    "colab": {
     "base_uri": "https://localhost:8080/"
    },
    "id": "nUo7sSxXskjK",
    "outputId": "be11d0a3-5bee-4af0-bf27-5899b40d6729",
    "ExecuteTime": {
     "end_time": "2024-10-28T20:50:47.252920Z",
     "start_time": "2024-10-28T20:50:47.229865Z"
    }
   },
   "outputs": [
    {
     "data": {
      "text/plain": [
       "['overall', 'unixReviewTime']"
      ]
     },
     "execution_count": 41,
     "metadata": {},
     "output_type": "execute_result"
    }
   ],
   "execution_count": 41
  },
  {
   "cell_type": "markdown",
   "source": [
    "Посчитаем количество уникальных признаков"
   ],
   "metadata": {
    "id": "MLXDG6fUt-gy"
   }
  },
  {
   "cell_type": "code",
   "source": [
    "for column in num_columns:\n",
    "  print(f'{column} {data[column].nunique()}')"
   ],
   "metadata": {
    "colab": {
     "base_uri": "https://localhost:8080/"
    },
    "id": "7Du62jQ0svSJ",
    "outputId": "1a89ea7d-2306-427d-f744-9ab5209e4ec3",
    "ExecuteTime": {
     "end_time": "2024-10-28T20:50:47.535670Z",
     "start_time": "2024-10-28T20:50:47.526932Z"
    }
   },
   "outputs": [
    {
     "name": "stdout",
     "output_type": "stream",
     "text": [
      "overall 5\n",
      "unixReviewTime 883\n"
     ]
    }
   ],
   "execution_count": 42
  },
  {
   "cell_type": "code",
   "source": [
    "plt.figure(figsize=(5, 3))\n",
    "sns.countplot(x='overall', data=data)"
   ],
   "metadata": {
    "colab": {
     "base_uri": "https://localhost:8080/",
     "height": 328
    },
    "id": "RpIdVvXgv0GX",
    "outputId": "bf75c792-6b0c-4d9c-f00b-312aace9ec1e",
    "ExecuteTime": {
     "end_time": "2024-10-28T20:50:48.335133Z",
     "start_time": "2024-10-28T20:50:47.746767Z"
    }
   },
   "outputs": [
    {
     "data": {
      "text/plain": [
       "<Axes: xlabel='overall', ylabel='count'>"
      ]
     },
     "execution_count": 43,
     "metadata": {},
     "output_type": "execute_result"
    },
    {
     "data": {
      "text/plain": [
       "<Figure size 500x300 with 1 Axes>"
      ],
      "image/png": "[encoded data removed]"
     },
     "metadata": {},
     "output_type": "display_data"
    }
   ],
   "execution_count": 43
  },
  {
   "cell_type": "code",
   "source": [
    "plt.figure(figsize=(10, 5))\n",
    "sns.histplot(x='unixReviewTime', bins=100, kde=True, data=data)\n",
    "plt.show()"
   ],
   "metadata": {
    "colab": {
     "base_uri": "https://localhost:8080/",
     "height": 465
    },
    "id": "OReSXshvuNHd",
    "outputId": "304236b5-86c3-4362-88e2-9b12b7d0f67a",
    "ExecuteTime": {
     "end_time": "2024-10-28T20:50:49.401821Z",
     "start_time": "2024-10-28T20:50:48.410692Z"
    }
   },
   "outputs": [
    {
     "data": {
      "text/plain": [
       "<Figure size 1000x500 with 1 Axes>"
      ],
      "image/png": "[encoded data removed]"
     },
     "metadata": {},
     "output_type": "display_data"
    }
   ],
   "execution_count": 44
  },
  {
   "cell_type": "code",
   "source": [
    "cat_columns = data.select_dtypes(include='object').columns.tolist()\n",
    "cat_columns"
   ],
   "metadata": {
    "colab": {
     "base_uri": "https://localhost:8080/"
    },
    "id": "GBeONOuOqPRs",
    "outputId": "cb160d80-fcaf-4873-ddad-409d226f957f",
    "ExecuteTime": {
     "end_time": "2024-10-28T20:50:49.517861Z",
     "start_time": "2024-10-28T20:50:49.502828Z"
    }
   },
   "outputs": [
    {
     "data": {
      "text/plain": [
       "['reviewTime',\n",
       " 'reviewerID',\n",
       " 'asin',\n",
       " 'style',\n",
       " 'reviewerName',\n",
       " 'reviewText',\n",
       " 'summary',\n",
       " 'vote',\n",
       " 'image']"
      ]
     },
     "execution_count": 45,
     "metadata": {},
     "output_type": "execute_result"
    }
   ],
   "execution_count": 45
  },
  {
   "cell_type": "code",
   "source": [
    "for column in cat_columns:\n",
    "  print(f'{column} {data[column].value_counts().sum()}')"
   ],
   "metadata": {
    "colab": {
     "base_uri": "https://localhost:8080/"
    },
    "id": "XbKtX8rMsBZo",
    "outputId": "edcb6178-545d-4f7f-e573-355bdb4114b8",
    "ExecuteTime": {
     "end_time": "2024-10-28T20:50:49.812992Z",
     "start_time": "2024-10-28T20:50:49.667630Z"
    }
   },
   "outputs": [
    {
     "name": "stdout",
     "output_type": "stream",
     "text": [
      "reviewTime 5269\n",
      "reviewerID 5269\n",
      "asin 5269\n",
      "style 4624\n",
      "reviewerName 5269\n",
      "reviewText 5264\n",
      "summary 5264\n",
      "vote 552\n",
      "image 98\n"
     ]
    }
   ],
   "execution_count": 46
  },
  {
   "cell_type": "markdown",
   "source": [
    "Отложим часть выборки для тестирования модели по принципу: для каждого пользователя отрежем последние 20% оценок."
   ],
   "metadata": {
    "id": "ipbo4VxF5lp-"
   }
  },
  {
   "cell_type": "code",
   "source": [
    "def train_test_split(X, ratio=0.2, user_col='reviewerID', item_col='asin',\n",
    "                     rating_col='overall', time_col='unixReviewTime'):\n",
    "  \n",
    "    # сортируем оценки по времени\n",
    "    X.sort_values(by=[time_col], inplace=True)\n",
    "\n",
    "    # список всех пользователей\n",
    "    userIds = X[user_col].unique()\n",
    "    X_train_data = []\n",
    "    X_test_data = []\n",
    "    y_train = []\n",
    "    y_test = []\n",
    "\n",
    "    for userId in tqdm.tqdm(userIds):\n",
    "        curUser = X[X[user_col] == userId]\n",
    "        # определяем позицию, по которой делим выборку и размещаем данные по массивам\n",
    "        idx = int(curUser.shape[0] * (1 - ratio))\n",
    "        X_train_data.append(curUser[[user_col, item_col]].iloc[:idx, :].values)\n",
    "        X_test_data.append(curUser[[user_col, item_col]].iloc[idx:, :].values)\n",
    "        y_train.append(curUser[rating_col].values[:idx])\n",
    "        y_test.append(curUser[rating_col].values[idx:])\n",
    "\n",
    "    # cтекуем данные по каждому пользователю в общие массивы\n",
    "    X_train = pd.DataFrame(np.vstack(X_train_data), columns=[user_col, item_col])\n",
    "    X_test = pd.DataFrame(np.vstack(X_test_data), columns=[user_col, item_col])\n",
    "    y_train = np.hstack(y_train)\n",
    "    y_test = np.hstack(y_test)\n",
    "\n",
    "    return X_train, X_test, y_train, y_test"
   ],
   "metadata": {
    "id": "WGHMMmTT5UDt",
    "ExecuteTime": {
     "end_time": "2024-10-28T20:50:49.908230Z",
     "start_time": "2024-10-28T20:50:49.888799Z"
    }
   },
   "outputs": [],
   "execution_count": 47
  },
  {
   "cell_type": "code",
   "source": [
    "X_train, X_test, y_train, y_test = train_test_split(data)"
   ],
   "metadata": {
    "colab": {
     "base_uri": "https://localhost:8080/",
     "height": 49,
     "referenced_widgets": [
      "6d7fd6ca157242a5a4b49d7a04cebe22",
      "4b35def10f7c4a1a8a61a11d696985ce",
      "2d2ca3c4ec2d4da6900de90033f82206",
      "a2cc42afdb7c4bf09f22e9ebcccc37cd",
      "0092f59d70ce4f84b5dc790884e3b743",
      "001ec49731ba473389192b0ab85872b0",
      "6fe7993f13434fb8a942f2aaf914335c",
      "7da716ce258b490d83bd5dd041d5a053",
      "82073cc1138a4f86ad76a869544bcdf6",
      "3f3537aaf7e5439b8eb3416c12f44ac7",
      "cbef7bcb6b1743eaaeb079e2f8b1934c"
     ]
    },
    "id": "jsAM9zaf6xZV",
    "outputId": "2d4eec07-ca57-43be-e99b-f37394fa7c43",
    "ExecuteTime": {
     "end_time": "2024-10-28T20:50:54.991615Z",
     "start_time": "2024-10-28T20:50:50.006453Z"
    }
   },
   "outputs": [
    {
     "name": "stderr",
     "output_type": "stream",
     "text": [
      "100%|██████████| 991/991 [00:04<00:00, 199.84it/s]\n"
     ]
    }
   ],
   "execution_count": 48
  },
  {
   "cell_type": "code",
   "source": [
    "X_train.shape, len(y_train), X_test.shape, len(y_test)"
   ],
   "metadata": {
    "colab": {
     "base_uri": "https://localhost:8080/"
    },
    "id": "gWESLA6f7T_s",
    "outputId": "34cb2c02-295f-4fd8-c2f5-3c93d555e811",
    "ExecuteTime": {
     "end_time": "2024-10-28T20:50:55.013132Z",
     "start_time": "2024-10-28T20:50:55.003933Z"
    }
   },
   "outputs": [
    {
     "data": {
      "text/plain": [
       "((4048, 2), 4048, (1221, 2), 1221)"
      ]
     },
     "execution_count": 49,
     "metadata": {},
     "output_type": "execute_result"
    }
   ],
   "execution_count": 49
  },
  {
   "cell_type": "code",
   "source": [
    "X_train.head(3)"
   ],
   "metadata": {
    "colab": {
     "base_uri": "https://localhost:8080/",
     "height": 142
    },
    "id": "gzR76k2i7imT",
    "outputId": "3c037811-18b1-49ac-e783-7352c6ae8fe6",
    "ExecuteTime": {
     "end_time": "2024-10-28T20:50:55.091121Z",
     "start_time": "2024-10-28T20:50:55.073038Z"
    }
   },
   "outputs": [
    {
     "data": {
      "text/plain": [
       "       reviewerID        asin\n",
       "0  A281NPSIMI1C2R  B0002JHI1I\n",
       "1  A281NPSIMI1C2R  B0002JHI1I\n",
       "2  A281NPSIMI1C2R  B0006O10P4"
      ],
      "text/html": [
       "<div>\n",
       "<style scoped>\n",
       "    .dataframe tbody tr th:only-of-type {\n",
       "        vertical-align: middle;\n",
       "    }\n",
       "\n",
       "    .dataframe tbody tr th {\n",
       "        vertical-align: top;\n",
       "    }\n",
       "\n",
       "    .dataframe thead th {\n",
       "        text-align: right;\n",
       "    }\n",
       "</style>\n",
       "<table border=\"1\" class=\"dataframe\">\n",
       "  <thead>\n",
       "    <tr style=\"text-align: right;\">\n",
       "      <th></th>\n",
       "      <th>reviewerID</th>\n",
       "      <th>asin</th>\n",
       "    </tr>\n",
       "  </thead>\n",
       "  <tbody>\n",
       "    <tr>\n",
       "      <th>0</th>\n",
       "      <td>A281NPSIMI1C2R</td>\n",
       "      <td>B0002JHI1I</td>\n",
       "    </tr>\n",
       "    <tr>\n",
       "      <th>1</th>\n",
       "      <td>A281NPSIMI1C2R</td>\n",
       "      <td>B0002JHI1I</td>\n",
       "    </tr>\n",
       "    <tr>\n",
       "      <th>2</th>\n",
       "      <td>A281NPSIMI1C2R</td>\n",
       "      <td>B0006O10P4</td>\n",
       "    </tr>\n",
       "  </tbody>\n",
       "</table>\n",
       "</div>"
      ]
     },
     "execution_count": 50,
     "metadata": {},
     "output_type": "execute_result"
    }
   ],
   "execution_count": 50
  },
  {
   "cell_type": "code",
   "source": [
    "y_train[1:10]"
   ],
   "metadata": {
    "colab": {
     "base_uri": "https://localhost:8080/"
    },
    "id": "LO4CqnNP7qg5",
    "outputId": "f4fae62b-a503-4a49-93a8-f2f8a8dd36e9",
    "ExecuteTime": {
     "end_time": "2024-10-28T20:50:55.281751Z",
     "start_time": "2024-10-28T20:50:55.265758Z"
    }
   },
   "outputs": [
    {
     "data": {
      "text/plain": [
       "array([5, 5, 5, 5, 5, 4, 5, 5, 5])"
      ]
     },
     "execution_count": 51,
     "metadata": {},
     "output_type": "execute_result"
    }
   ],
   "execution_count": 51
  },
  {
   "cell_type": "markdown",
   "source": [
    "# Collaborative filtering\n",
    "\n",
    "# User-based model\n"
   ],
   "metadata": {
    "id": "kHGUwt7F8NbS"
   }
  },
  {
   "cell_type": "markdown",
   "source": [
    "User-based model является моделью коллаборативной фильтрации, основная идея которой похожим пользователям обычно нравятся похожие объекты.\n",
    "Идею алгоритма можно сформулировать следующим образом:\n",
    "\n",
    "Найти, насколько другие пользователи в базе данных похожи на данного пользователя.\n",
    "\n",
    "По оценкам других пользователей предсказать, какую оценку даст данный пользователь данному продукту, учитывая с большим весом тех пользователей, которые больше похожи на данного.\n",
    "\n",
    "Определять схожесть двух пользователей будем с помощью корреляции Пирсона между векторами уже поставленными оценками. Отметим, что для двух различных пользователей оценка может иметь различный вес, так для одного средний фильм имеет рейтинг 2 , а для другого  4 . Такие пользователи похожи, но корреляция скажет, что они различны. Чтобы устранить это, давайте из всех оценок пользователя вычтем его среднюю оценку."
   ],
   "metadata": {
    "id": "60x4FxLvKrv6"
   }
  },
  {
   "cell_type": "code",
   "source": [
    "class UserBased(BaseEstimator):\n",
    "\n",
    "    def fit(self, X, y, user_col='reviewerID', item_col='asin'):\n",
    "\n",
    "        X = X.copy()\n",
    "        # сохраним текущих пользователей и имеющиеся предметы\n",
    "        self.users = X[user_col].unique()\n",
    "        self.items = X[item_col].unique()\n",
    "        \n",
    "        X['y'] = y\n",
    "        \n",
    "        # рассчитаем среднее значение рейтинга для пользователя и предмета\n",
    "        self.mean_y_user = X.groupby(user_col)['y'].mean()\n",
    "        self.mean_y_item = X.groupby(item_col)['y'].mean()\n",
    "        \n",
    "        # вычитаем среднюю оценку пользователя\n",
    "        X['y'] -= X[user_col].apply(lambda x: self.mean_y_user[x])\n",
    "        \n",
    "        # создаём векторы для каждого пользователя из купленных предметов\n",
    "        # для неизвестных предметов ставим оценку 0\n",
    "        self.user_ratings = pd.pivot_table(X, values='y', index=user_col,\n",
    "                                           columns=item_col, fill_value=0)\n",
    "        \n",
    "        # считаем попарную схожесть между пользователями\n",
    "        self.user_sim = cosine_similarity(self.user_ratings)\n",
    "        \n",
    "        # также сделаем словарь - {значение user_col: index в user_ratings}\n",
    "        self.user_pos = dict()\n",
    "        for user in self.users:\n",
    "            self.user_pos[user] = np.argwhere(self.user_ratings.index.values == user)[0][0]\n",
    "        return self\n",
    "\n",
    "    \n",
    "    def predict_rating(self, pr_user, pr_item):\n",
    "\n",
    "        # если в обучающей выборке нет такого предмета\n",
    "        # или пользователя, то вернём 0\n",
    "        if not pr_item in self.items or not pr_user in self.users:\n",
    "            return 0\n",
    "        \n",
    "        # считаем числитель и знаменатель дроби из формулы предсказания\n",
    "        numerator = self.user_sim[self.user_pos[pr_user]].dot(\n",
    "                        self.user_ratings.loc[:, pr_item])   \n",
    "        # вычитаем 1, так как схожесть пользователя с самим собой равна 1,\n",
    "        # и модель не должна это учитывать\n",
    "        denominator = np.abs(self.user_sim[self.user_pos[pr_user]]).sum() - 1\n",
    "        \n",
    "        return self.mean_y_user[pr_user] + numerator / denominator\n",
    "\n",
    "    \n",
    "    def predict(self, X, user_col='reviewerID', item_col='asin'):\n",
    "\n",
    "        y = X[[user_col, item_col]].apply(lambda row: self.predict_rating(row[0], row[1]), axis=1)\n",
    "        return y"
   ],
   "metadata": {
    "id": "ScUHydbg8fTC",
    "ExecuteTime": {
     "end_time": "2024-10-28T20:50:55.490537Z",
     "start_time": "2024-10-28T20:50:55.464343Z"
    }
   },
   "outputs": [],
   "execution_count": 52
  },
  {
   "cell_type": "code",
   "source": [
    "rmse = lambda y_true, y_pred: np.sqrt(mean_squared_error(y_true, y_pred))"
   ],
   "metadata": {
    "id": "Yog10MDO_ZrF",
    "ExecuteTime": {
     "end_time": "2024-10-28T20:50:55.623442Z",
     "start_time": "2024-10-28T20:50:55.611764Z"
    }
   },
   "outputs": [],
   "execution_count": 53
  },
  {
   "cell_type": "code",
   "source": [
    "%%time\n",
    "print('start fitting...')\n",
    "ub = UserBased().fit(X_train, y_train)\n",
    "print('start predicting...')\n",
    "print('rmse = {}'.format(rmse(y_test, ub.predict(X_test))))"
   ],
   "metadata": {
    "colab": {
     "base_uri": "https://localhost:8080/"
    },
    "id": "l3s1810J_S4Y",
    "outputId": "a5089e2a-dce8-4d0d-cc94-dc2327566540",
    "ExecuteTime": {
     "end_time": "2024-10-28T20:50:56.799147Z",
     "start_time": "2024-10-28T20:50:55.720124Z"
    }
   },
   "outputs": [
    {
     "name": "stdout",
     "output_type": "stream",
     "text": [
      "start fitting...\n",
      "start predicting...\n",
      "rmse = 0.5010912017603278\n",
      "CPU times: user 1.09 s, sys: 187 ms, total: 1.28 s\n",
      "Wall time: 1.06 s\n"
     ]
    }
   ],
   "execution_count": 54
  },
  {
   "cell_type": "markdown",
   "source": [
    "# Item-based model\n",
    "\n",
    "Item-based model очень похожа на предыдущую модель по структуре, но теперь мы ищем похожие товары, а не пользователей. А именно, насколько другие продукты в базе данных похожи на данный продукт.\n",
    "По оценкам других продуктов предсказать, какую оценку даст данный пользователь данному продукту, учитывая с большим весом те продукты, которые больше похожи на данный."
   ],
   "metadata": {
    "id": "3f1ECN4k_5gs"
   }
  },
  {
   "cell_type": "code",
   "source": [
    "class ItemBased(BaseEstimator):\n",
    "\n",
    "    def fit(self, X, y, user_col='reviewerID', item_col='asin'):\n",
    "\n",
    "        X = X.copy()\n",
    "        # сохраним текущих пользователей и имеющиеся предметы\n",
    "        self.users = X[user_col].unique()\n",
    "        self.items = X[item_col].unique()\n",
    "        \n",
    "        X['y'] = y\n",
    "        # рассчитаем среднее значение рейтинга для пользователя и предмета\n",
    "        self.mean_y_user = X.groupby(user_col)['y'].mean()\n",
    "        self.mean_y_item = X.groupby(item_col)['y'].mean()\n",
    "        \n",
    "        # вычитаем среднюю оценку предмета\n",
    "        X['y'] -= X[item_col].apply(lambda x: self.mean_y_item[x])\n",
    "        \n",
    "        # создаём векторы для каждого предмета с оценками пользователя\n",
    "        # если пользователь не поставил оценку, то ставим 0\n",
    "        self.item_ratings = pd.pivot_table(X, values='y', index=item_col,\n",
    "                                           columns=user_col, fill_value=0)\n",
    "        \n",
    "        # считаем попарную схожесть между предметами\n",
    "        self.item_sim = cosine_similarity(self.item_ratings)\n",
    "        \n",
    "        # также сделаем словарь {значение item_col: index в item_ratings}\n",
    "        self.item_pos = dict()\n",
    "        for item in self.items:\n",
    "            self.item_pos[item] = np.argwhere(self.item_ratings.index.values == item)[0][0]\n",
    "\n",
    "        return self\n",
    "    \n",
    "\n",
    "    def predict_rating(self, pr_user, pr_item):\n",
    "\n",
    "        # если в обучающей выборке нет такого предмета\n",
    "        # или пользователя, то вернём 0\n",
    "        if not pr_item in self.items or not pr_user in self.users:\n",
    "            return 0\n",
    "        \n",
    "        # считаем числитель и знаменатель дроби из формулы предсказания\n",
    "        numerator = self.item_sim[self.item_pos[pr_item]].dot(\n",
    "                        self.item_ratings.loc[:, pr_user])   \n",
    "        \n",
    "        # вычитаем 1, так как схожесть предмета с самим собой равна 1,\n",
    "        # но модель не должна это учитывать\n",
    "        denominator = np.abs(self.item_sim[self.item_pos[pr_item]]).sum() - 1\n",
    "        \n",
    "        return self.mean_y_item[pr_item] + numerator / denominator\n",
    "    \n",
    "\n",
    "    def predict(self, X, user_col='reviewerID', item_col='asin'):\n",
    "\n",
    "        y = X[[user_col, item_col]].apply(lambda row: self.predict_rating(row[0], row[1]), axis=1)\n",
    "        return y"
   ],
   "metadata": {
    "id": "8Jh1qCBf_941",
    "ExecuteTime": {
     "end_time": "2024-10-28T20:50:56.940400Z",
     "start_time": "2024-10-28T20:50:56.914574Z"
    }
   },
   "outputs": [],
   "execution_count": 55
  },
  {
   "cell_type": "code",
   "source": [
    "%%time\n",
    "print('start fitting...')\n",
    "ib = ItemBased().fit(X_train, y_train)\n",
    "print('start predicting...')\n",
    "print('rmse = {}'.format(rmse(y_test, ib.predict(X_test))))"
   ],
   "metadata": {
    "colab": {
     "base_uri": "https://localhost:8080/"
    },
    "id": "QvcEW5NQNFpy",
    "outputId": "d8b4671c-2168-4b6e-e2bc-226f1a1b2884",
    "ExecuteTime": {
     "end_time": "2024-10-28T20:50:58.135760Z",
     "start_time": "2024-10-28T20:50:56.954524Z"
    }
   },
   "outputs": [
    {
     "name": "stdout",
     "output_type": "stream",
     "text": [
      "start fitting...\n",
      "start predicting...\n",
      "rmse = 0.5041320305507448\n",
      "CPU times: user 1.06 s, sys: 190 ms, total: 1.25 s\n",
      "Wall time: 1.11 s\n"
     ]
    }
   ],
   "execution_count": 56
  },
  {
   "cell_type": "markdown",
   "source": [
    "Как мы видим, метрики в ItemBased model и UserBased model практически одинаковы"
   ],
   "metadata": {
    "id": "Sn8uNdXVOTDo"
   }
  }
 ]
}
